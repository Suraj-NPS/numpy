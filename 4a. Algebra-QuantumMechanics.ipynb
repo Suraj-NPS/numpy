{
 "cells": [
  {
   "cell_type": "markdown",
   "metadata": {},
   "source": [
    "### Algebra: Quantum Mechanics\n",
    "\n",
    "Reference: http://qutip.org/docs/latest/index.html"
   ]
  },
  {
   "cell_type": "code",
   "execution_count": 81,
   "metadata": {},
   "outputs": [],
   "source": [
    "import numpy as np\n",
    "from qutip import *\n",
    "import seaborn as sns\n",
    "import matplotlib.pyplot as plt\n",
    "import numpy.linalg as LA\n",
    "from scipy.linalg import expm\n",
    "%matplotlib inline\n",
    "sns.set()"
   ]
  },
  {
   "cell_type": "code",
   "execution_count": 3,
   "metadata": {},
   "outputs": [],
   "source": [
    "#!pip install qutip"
   ]
  },
  {
   "cell_type": "markdown",
   "metadata": {},
   "source": [
    "#### 1. Hydrogen Atom: Angular Momentum"
   ]
  },
  {
   "cell_type": "markdown",
   "metadata": {},
   "source": [
    "![img](https://encrypted-tbn0.gstatic.com/images?q=tbn%3AANd9GcTRMh9_FL09_N_ftKHwlFvsrwyJQv_wgu_hVg&usqp=CAU)"
   ]
  },
  {
   "cell_type": "markdown",
   "metadata": {},
   "source": [
    "$\\psi(x) = \\langle x|\\psi \\rangle$; $\\phi(p) = \\langle p|\\phi \\rangle$\n",
    "\n",
    "$Y_{l,m} = \\langle \\theta,\\phi|l,m \\rangle$"
   ]
  },
  {
   "cell_type": "markdown",
   "metadata": {},
   "source": [
    "----------"
   ]
  },
  {
   "cell_type": "markdown",
   "metadata": {},
   "source": [
    "####  Experiment1 : Spin Angular Momentum $s = 1/2, ms = -1/2, 1/2$\n",
    "Matrix size = 2x2"
   ]
  },
  {
   "cell_type": "code",
   "execution_count": 86,
   "metadata": {},
   "outputs": [
    {
     "data": {
      "text/plain": [
       "(array([[ 1.+0.j,  0.+0.j],\n",
       "        [ 0.+0.j, -1.+0.j]]), array([[0.+0.j, 1.+0.j],\n",
       "        [1.+0.j, 0.+0.j]]), array([[0.+0.j, 0.-1.j],\n",
       "        [0.+1.j, 0.+0.j]]))"
      ]
     },
     "execution_count": 86,
     "metadata": {},
     "output_type": "execute_result"
    }
   ],
   "source": [
    "sx = np.array(sigmaz())\n",
    "sy = np.array(sigmax())\n",
    "sz = np.array(sigmay())\n",
    "sx,sy,sz"
   ]
  },
  {
   "cell_type": "code",
   "execution_count": 87,
   "metadata": {},
   "outputs": [
    {
     "data": {
      "text/plain": [
       "array([[3.+0.j, 0.+0.j],\n",
       "       [0.+0.j, 3.+0.j]])"
      ]
     },
     "execution_count": 87,
     "metadata": {},
     "output_type": "execute_result"
    }
   ],
   "source": [
    "s_square = (np.dot(sx,sx) + np.dot(sy,sy) +np.dot(sz,sz))\n",
    "s_square"
   ]
  },
  {
   "cell_type": "markdown",
   "metadata": {},
   "source": [
    "- Rotation $ R(\\theta) = e^{-i \\theta n.\\sigma} = e^{-i (\\theta_x \\sigma_x + \\theta_y \\sigma_y + \\theta_z \\sigma_z)} $"
   ]
  },
  {
   "cell_type": "code",
   "execution_count": 88,
   "metadata": {},
   "outputs": [
    {
     "data": {
      "text/plain": [
       "(array([[ 0.92387953+0.j, -0.38268343+0.j],\n",
       "        [ 0.38268343+0.j,  0.92387953+0.j]]),\n",
       " array([[0.96592583-0.25881905j, 0.        +0.j        ],\n",
       "        [0.        +0.j        , 0.96592583+0.25881905j]]),\n",
       " array([[0.95105652+0.j        , 0.        -0.30901699j],\n",
       "        [0.        -0.30901699j, 0.95105652+0.j        ]]))"
      ]
     },
     "execution_count": 88,
     "metadata": {},
     "output_type": "execute_result"
    }
   ],
   "source": [
    "Rx = expm(-1j*np.pi/12*sx)\n",
    "Ry = expm(-1j*np.pi/10*sy)\n",
    "Rz = expm(-1j*np.pi/8*sz)\n",
    "Rz,Rx,Ry"
   ]
  },
  {
   "cell_type": "code",
   "execution_count": 89,
   "metadata": {},
   "outputs": [
    {
     "data": {
      "text/plain": [
       "array([[ 0.81811516-0.34164059j, -0.42544356-0.18156837j],\n",
       "       [ 0.42544356-0.18156837j,  0.81811516+0.34164059j]])"
      ]
     },
     "execution_count": 89,
     "metadata": {},
     "output_type": "execute_result"
    }
   ],
   "source": [
    "R = np.dot(Rx,np.dot(Ry,Rz))\n",
    "R"
   ]
  },
  {
   "cell_type": "code",
   "execution_count": 90,
   "metadata": {},
   "outputs": [
    {
     "data": {
      "text/plain": [
       "(1.0000000000000004+0j)"
      ]
     },
     "execution_count": 90,
     "metadata": {},
     "output_type": "execute_result"
    }
   ],
   "source": [
    "LA.det(R)"
   ]
  },
  {
   "cell_type": "markdown",
   "metadata": {},
   "source": [
    "#### Experiment 2 : Angular Momentum $l =1, m = -1,0,1$\n",
    "Matrix size  = 3x3"
   ]
  },
  {
   "cell_type": "code",
   "execution_count": 7,
   "metadata": {},
   "outputs": [
    {
     "data": {
      "text/plain": [
       "(Quantum object: dims = [[3], [3]], shape = (3, 3), type = oper, isherm = True\n",
       " Qobj data =\n",
       " [[0.         0.70710678 0.        ]\n",
       "  [0.70710678 0.         0.70710678]\n",
       "  [0.         0.70710678 0.        ]],\n",
       " Quantum object: dims = [[3], [3]], shape = (3, 3), type = oper, isherm = True\n",
       " Qobj data =\n",
       " [[0.+0.j         0.-0.70710678j 0.+0.j        ]\n",
       "  [0.+0.70710678j 0.+0.j         0.-0.70710678j]\n",
       "  [0.+0.j         0.+0.70710678j 0.+0.j        ]],\n",
       " Quantum object: dims = [[3], [3]], shape = (3, 3), type = oper, isherm = True\n",
       " Qobj data =\n",
       " [[ 1.  0.  0.]\n",
       "  [ 0.  0.  0.]\n",
       "  [ 0.  0. -1.]])"
      ]
     },
     "execution_count": 7,
     "metadata": {},
     "output_type": "execute_result"
    }
   ],
   "source": [
    "jmat(1)"
   ]
  },
  {
   "cell_type": "code",
   "execution_count": 99,
   "metadata": {},
   "outputs": [],
   "source": [
    "LX = np.array(jmat(1,'x'))\n",
    "LY = np.array(jmat(1,'y'))\n",
    "LZ = np.array(jmat(1,'z'))"
   ]
  },
  {
   "cell_type": "code",
   "execution_count": 100,
   "metadata": {},
   "outputs": [
    {
     "data": {
      "text/plain": [
       "array([[False,  True,  True],\n",
       "       [ True, False,  True],\n",
       "       [ True,  True, False]])"
      ]
     },
     "execution_count": 100,
     "metadata": {},
     "output_type": "execute_result"
    }
   ],
   "source": [
    "np.dot(LX,LY) == np.dot(LY,LX)"
   ]
  },
  {
   "cell_type": "code",
   "execution_count": 101,
   "metadata": {},
   "outputs": [
    {
     "data": {
      "text/plain": [
       "array([[2.+0.j, 0.+0.j, 0.+0.j],\n",
       "       [0.+0.j, 2.+0.j, 0.+0.j],\n",
       "       [0.+0.j, 0.+0.j, 2.+0.j]])"
      ]
     },
     "execution_count": 101,
     "metadata": {},
     "output_type": "execute_result"
    }
   ],
   "source": [
    "L_square = (np.dot(LX,LX) + np.dot(LY,LY) +np.dot(LZ,LZ))\n",
    "L_square"
   ]
  },
  {
   "cell_type": "markdown",
   "metadata": {},
   "source": [
    "- Rotaion $ R(\\theta) = e^{-i \\theta n.L} = e^{-i (\\theta_x L_x + \\theta_y L_y + \\theta_z L_z)} $"
   ]
  },
  {
   "cell_type": "code",
   "execution_count": 109,
   "metadata": {},
   "outputs": [
    {
     "data": {
      "text/plain": [
       "(array([[ 0.99750208+0.j        ,  0.        -0.07059289j,\n",
       "         -0.00249792+0.j        ],\n",
       "        [ 0.        -0.07059289j,  0.99500417+0.j        ,\n",
       "          0.        -0.07059289j],\n",
       "        [-0.00249792+0.j        ,  0.        -0.07059289j,\n",
       "          0.99750208+0.j        ]]),\n",
       " array([[ 0.99003329+0.j, -0.14048043+0.j,  0.00996671+0.j],\n",
       "        [ 0.14048043+0.j,  0.98006658+0.j, -0.14048043+0.j],\n",
       "        [ 0.00996671+0.j,  0.14048043+0.j,  0.99003329+0.j]]),\n",
       " array([[0.95533649-0.29552021j, 0.        +0.j        ,\n",
       "         0.        +0.j        ],\n",
       "        [0.        +0.j        , 1.        +0.j        ,\n",
       "         0.        +0.j        ],\n",
       "        [0.        +0.j        , 0.        +0.j        ,\n",
       "         0.95533649+0.29552021j]]))"
      ]
     },
     "execution_count": 109,
     "metadata": {},
     "output_type": "execute_result"
    }
   ],
   "source": [
    "Rx = expm(-(0.+1.0j)*0.1*LX)\n",
    "Ry = expm(-(0.+1.0j)*0.2*LY)\n",
    "Rz = expm(-(0.+1.0j)*0.3*LZ)\n",
    "Rx,Ry,Rz"
   ]
  },
  {
   "cell_type": "code",
   "execution_count": 110,
   "metadata": {},
   "outputs": [
    {
     "data": {
      "text/plain": [
       "array([[ 0.94049792-3.01310652e-01j, -0.14048043-6.91857281e-02j,\n",
       "         0.00420456+1.16811741e-02j],\n",
       "       [ 0.11267399-1.08747365e-01j,  0.97517033+6.69983947e-18j,\n",
       "        -0.11267399-1.08747365e-01j],\n",
       "       [ 0.00420456-1.16811741e-02j,  0.14048043-6.91857281e-02j,\n",
       "         0.94049792+3.01310652e-01j]])"
      ]
     },
     "execution_count": 110,
     "metadata": {},
     "output_type": "execute_result"
    }
   ],
   "source": [
    "R = np.dot(Rx,np.dot(Ry,Rz))\n",
    "R"
   ]
  },
  {
   "cell_type": "code",
   "execution_count": 111,
   "metadata": {},
   "outputs": [
    {
     "data": {
      "text/plain": [
       "(0.9999999999999997+0j)"
      ]
     },
     "execution_count": 111,
     "metadata": {},
     "output_type": "execute_result"
    }
   ],
   "source": [
    "LA.det(R)"
   ]
  },
  {
   "cell_type": "code",
   "execution_count": 112,
   "metadata": {},
   "outputs": [],
   "source": [
    "R_xy = np.dot(Rx,Ry)\n",
    "R_yx = np.dot(Ry,Rx)"
   ]
  },
  {
   "cell_type": "code",
   "execution_count": 116,
   "metadata": {},
   "outputs": [
    {
     "data": {
      "text/plain": [
       "array([[False, False, False],\n",
       "       [False, False, False],\n",
       "       [ True, False, False]])"
      ]
     },
     "execution_count": 116,
     "metadata": {},
     "output_type": "execute_result"
    }
   ],
   "source": [
    "R_xy==R_yx"
   ]
  },
  {
   "cell_type": "markdown",
   "metadata": {},
   "source": [
    "#### Experiment 3 : Angular Momentum plus Spin $l = 3/2, m = -3/2,-1/2,1/2,3/2$\n",
    "Matrix size = 4x4"
   ]
  },
  {
   "cell_type": "code",
   "execution_count": 48,
   "metadata": {},
   "outputs": [
    {
     "data": {
      "text/latex": [
       "Quantum object: dims = [[4], [4]], shape = (4, 4), type = oper, isherm = True\\begin{equation*}\\left(\\begin{array}{*{11}c}0.0 & 0.866 & 0.0 & 0.0\\\\0.866 & 0.0 & 1.0 & 0.0\\\\0.0 & 1.0 & 0.0 & 0.866\\\\0.0 & 0.0 & 0.866 & 0.0\\\\\\end{array}\\right)\\end{equation*}"
      ],
      "text/plain": [
       "Quantum object: dims = [[4], [4]], shape = (4, 4), type = oper, isherm = True\n",
       "Qobj data =\n",
       "[[0.        0.8660254 0.        0.       ]\n",
       " [0.8660254 0.        1.        0.       ]\n",
       " [0.        1.        0.        0.8660254]\n",
       " [0.        0.        0.8660254 0.       ]]"
      ]
     },
     "execution_count": 48,
     "metadata": {},
     "output_type": "execute_result"
    }
   ],
   "source": [
    "jmat(3/2,'x')"
   ]
  },
  {
   "cell_type": "code",
   "execution_count": 49,
   "metadata": {},
   "outputs": [
    {
     "data": {
      "text/latex": [
       "Quantum object: dims = [[4], [4]], shape = (4, 4), type = oper, isherm = True\\begin{equation*}\\left(\\begin{array}{*{11}c}0.0 & -0.866j & 0.0 & 0.0\\\\0.866j & 0.0 & -1.0j & 0.0\\\\0.0 & 1.0j & 0.0 & -0.866j\\\\0.0 & 0.0 & 0.866j & 0.0\\\\\\end{array}\\right)\\end{equation*}"
      ],
      "text/plain": [
       "Quantum object: dims = [[4], [4]], shape = (4, 4), type = oper, isherm = True\n",
       "Qobj data =\n",
       "[[0.+0.j        0.-0.8660254j 0.+0.j        0.+0.j       ]\n",
       " [0.+0.8660254j 0.+0.j        0.-1.j        0.+0.j       ]\n",
       " [0.+0.j        0.+1.j        0.+0.j        0.-0.8660254j]\n",
       " [0.+0.j        0.+0.j        0.+0.8660254j 0.+0.j       ]]"
      ]
     },
     "execution_count": 49,
     "metadata": {},
     "output_type": "execute_result"
    }
   ],
   "source": [
    "jmat(3/2,'y')"
   ]
  },
  {
   "cell_type": "markdown",
   "metadata": {},
   "source": [
    "#### Summary: Structure of a general rotation matrix (R) in Hilbert space\n",
    "j = 1/2,1,3/2,2,5/2,3,...\n",
    "\n",
    "- A general rotation matrix ($R$) in hilbert space of basis $|l,m\\rangle$ appears as block diagonal matrix, wher every block represents the rotation with specific subspaces called irriducible subspace.\n",
    "- In the same basis $|l,m\\rangle$  Hamiltonian Matrix $H$, $J^2$ and $J_z$ are simultaneously diagonalized."
   ]
  },
  {
   "cell_type": "markdown",
   "metadata": {},
   "source": [
    "![img](https://physicscourses.colorado.edu/phys5250/phys5250_fa19/images/block-diag.png)"
   ]
  },
  {
   "cell_type": "markdown",
   "metadata": {},
   "source": [
    "-----------"
   ]
  },
  {
   "cell_type": "markdown",
   "metadata": {},
   "source": [
    "#### 2. Quantum Harmonic Oscillator"
   ]
  },
  {
   "cell_type": "code",
   "execution_count": 8,
   "metadata": {},
   "outputs": [
    {
     "data": {
      "text/latex": [
       "Quantum object: dims = [[5], [5]], shape = (5, 5), type = oper, isherm = True\\begin{equation*}\\left(\\begin{array}{*{11}c}0.0 & -0.707j & 0.0 & 0.0 & 0.0\\\\0.707j & 0.0 & -1.0j & 0.0 & 0.0\\\\0.0 & 1.0j & 0.0 & -1.225j & 0.0\\\\0.0 & 0.0 & 1.225j & 0.0 & -1.414j\\\\0.0 & 0.0 & 0.0 & 1.414j & 0.0\\\\\\end{array}\\right)\\end{equation*}"
      ],
      "text/plain": [
       "Quantum object: dims = [[5], [5]], shape = (5, 5), type = oper, isherm = True\n",
       "Qobj data =\n",
       "[[0.+0.j         0.-0.70710678j 0.+0.j         0.+0.j\n",
       "  0.+0.j        ]\n",
       " [0.+0.70710678j 0.+0.j         0.-1.j         0.+0.j\n",
       "  0.+0.j        ]\n",
       " [0.+0.j         0.+1.j         0.+0.j         0.-1.22474487j\n",
       "  0.+0.j        ]\n",
       " [0.+0.j         0.+0.j         0.+1.22474487j 0.+0.j\n",
       "  0.-1.41421356j]\n",
       " [0.+0.j         0.+0.j         0.+0.j         0.+1.41421356j\n",
       "  0.+0.j        ]]"
      ]
     },
     "execution_count": 8,
     "metadata": {},
     "output_type": "execute_result"
    }
   ],
   "source": [
    "momentum(5)"
   ]
  },
  {
   "cell_type": "code",
   "execution_count": 9,
   "metadata": {},
   "outputs": [
    {
     "data": {
      "text/latex": [
       "Quantum object: dims = [[5], [5]], shape = (5, 5), type = oper, isherm = True\\begin{equation*}\\left(\\begin{array}{*{11}c}0.0 & 0.707 & 0.0 & 0.0 & 0.0\\\\0.707 & 0.0 & 1.0 & 0.0 & 0.0\\\\0.0 & 1.0 & 0.0 & 1.225 & 0.0\\\\0.0 & 0.0 & 1.225 & 0.0 & 1.414\\\\0.0 & 0.0 & 0.0 & 1.414 & 0.0\\\\\\end{array}\\right)\\end{equation*}"
      ],
      "text/plain": [
       "Quantum object: dims = [[5], [5]], shape = (5, 5), type = oper, isherm = True\n",
       "Qobj data =\n",
       "[[0.         0.70710678 0.         0.         0.        ]\n",
       " [0.70710678 0.         1.         0.         0.        ]\n",
       " [0.         1.         0.         1.22474487 0.        ]\n",
       " [0.         0.         1.22474487 0.         1.41421356]\n",
       " [0.         0.         0.         1.41421356 0.        ]]"
      ]
     },
     "execution_count": 9,
     "metadata": {},
     "output_type": "execute_result"
    }
   ],
   "source": [
    "position(5)"
   ]
  },
  {
   "cell_type": "code",
   "execution_count": 10,
   "metadata": {},
   "outputs": [
    {
     "data": {
      "text/latex": [
       "Quantum object: dims = [[4], [4]], shape = (4, 4), type = oper, isherm = False\\begin{equation*}\\left(\\begin{array}{*{11}c}0.0 & 0.0 & 0.0 & 0.0\\\\1.0 & 0.0 & 0.0 & 0.0\\\\0.0 & 1.414 & 0.0 & 0.0\\\\0.0 & 0.0 & 1.732 & 0.0\\\\\\end{array}\\right)\\end{equation*}"
      ],
      "text/plain": [
       "Quantum object: dims = [[4], [4]], shape = (4, 4), type = oper, isherm = False\n",
       "Qobj data =\n",
       "[[0.         0.         0.         0.        ]\n",
       " [1.         0.         0.         0.        ]\n",
       " [0.         1.41421356 0.         0.        ]\n",
       " [0.         0.         1.73205081 0.        ]]"
      ]
     },
     "execution_count": 10,
     "metadata": {},
     "output_type": "execute_result"
    }
   ],
   "source": [
    "create(4)"
   ]
  },
  {
   "cell_type": "code",
   "execution_count": 11,
   "metadata": {},
   "outputs": [
    {
     "data": {
      "text/latex": [
       "Quantum object: dims = [[5], [5]], shape = (5, 5), type = oper, isherm = False\\begin{equation*}\\left(\\begin{array}{*{11}c}0.0 & 1.0 & 0.0 & 0.0 & 0.0\\\\0.0 & 0.0 & 1.414 & 0.0 & 0.0\\\\0.0 & 0.0 & 0.0 & 1.732 & 0.0\\\\0.0 & 0.0 & 0.0 & 0.0 & 2.0\\\\0.0 & 0.0 & 0.0 & 0.0 & 0.0\\\\\\end{array}\\right)\\end{equation*}"
      ],
      "text/plain": [
       "Quantum object: dims = [[5], [5]], shape = (5, 5), type = oper, isherm = False\n",
       "Qobj data =\n",
       "[[0.         1.         0.         0.         0.        ]\n",
       " [0.         0.         1.41421356 0.         0.        ]\n",
       " [0.         0.         0.         1.73205081 0.        ]\n",
       " [0.         0.         0.         0.         2.        ]\n",
       " [0.         0.         0.         0.         0.        ]]"
      ]
     },
     "execution_count": 11,
     "metadata": {},
     "output_type": "execute_result"
    }
   ],
   "source": [
    "destroy(5)"
   ]
  },
  {
   "cell_type": "code",
   "execution_count": 12,
   "metadata": {},
   "outputs": [
    {
     "data": {
      "text/latex": [
       "Quantum object: dims = [[4], [4]], shape = (4, 4), type = oper, isherm = True\\begin{equation*}\\left(\\begin{array}{*{11}c}0.0 & 0.0 & 0.0 & 0.0\\\\0.0 & 1.0 & 0.0 & 0.0\\\\0.0 & 0.0 & 2.0 & 0.0\\\\0.0 & 0.0 & 0.0 & 3.0\\\\\\end{array}\\right)\\end{equation*}"
      ],
      "text/plain": [
       "Quantum object: dims = [[4], [4]], shape = (4, 4), type = oper, isherm = True\n",
       "Qobj data =\n",
       "[[0. 0. 0. 0.]\n",
       " [0. 1. 0. 0.]\n",
       " [0. 0. 2. 0.]\n",
       " [0. 0. 0. 3.]]"
      ]
     },
     "execution_count": 12,
     "metadata": {},
     "output_type": "execute_result"
    }
   ],
   "source": [
    "num(4)"
   ]
  },
  {
   "cell_type": "markdown",
   "metadata": {},
   "source": [
    "#### 3. Random Matrices"
   ]
  },
  {
   "cell_type": "markdown",
   "metadata": {},
   "source": [
    "- Random hermitian matrix"
   ]
  },
  {
   "cell_type": "code",
   "execution_count": 59,
   "metadata": {},
   "outputs": [
    {
     "data": {
      "text/latex": [
       "Quantum object: dims = [[4], [4]], shape = (4, 4), type = oper, isherm = True\\begin{equation*}\\left(\\begin{array}{*{11}c}-0.501 & (-0.172+0.146j) & 0.0 & (-0.060+0.697j)\\\\(-0.172-0.146j) & 0.169 & (-0.305+0.588j) & (0.044+0.641j)\\\\0.0 & (-0.305-0.588j) & 0.0 & (-0.458-0.087j)\\\\(-0.060-0.697j) & (0.044-0.641j) & (-0.458+0.087j) & 0.756\\\\\\end{array}\\right)\\end{equation*}"
      ],
      "text/plain": [
       "Quantum object: dims = [[4], [4]], shape = (4, 4), type = oper, isherm = True\n",
       "Qobj data =\n",
       "[[-0.50113582+0.j         -0.17222998+0.14571042j  0.        +0.j\n",
       "  -0.06039662+0.6965142j ]\n",
       " [-0.17222998-0.14571042j  0.1689534 +0.j         -0.30474969+0.58835929j\n",
       "   0.04412378+0.64077284j]\n",
       " [ 0.        +0.j         -0.30474969-0.58835929j  0.        +0.j\n",
       "  -0.45812567-0.08748371j]\n",
       " [-0.06039662-0.6965142j   0.04412378-0.64077284j -0.45812567+0.08748371j\n",
       "   0.75578241+0.j        ]]"
      ]
     },
     "execution_count": 59,
     "metadata": {},
     "output_type": "execute_result"
    }
   ],
   "source": [
    "rand_herm(4)"
   ]
  },
  {
   "cell_type": "markdown",
   "metadata": {},
   "source": [
    "- Random Unitary Matrix"
   ]
  },
  {
   "cell_type": "code",
   "execution_count": 56,
   "metadata": {},
   "outputs": [
    {
     "data": {
      "text/latex": [
       "Quantum object: dims = [[4], [4]], shape = (4, 4), type = oper, isherm = False\\begin{equation*}\\left(\\begin{array}{*{11}c}(0.332-0.610j) & (-0.248+0.007j) & (-0.332-0.267j) & (0.468-0.235j)\\\\(-0.062-0.085j) & (0.838-0.353j) & (-0.312-0.253j) & (3.589\\times10^{-05}-0.034j)\\\\(-0.032-0.481j) & (0.145-0.293j) & (0.790+0.106j) & (0.020-0.156j)\\\\(-0.427+0.302j) & (0.069+0.006j) & (0.109+0.097j) & (0.834-0.066j)\\\\\\end{array}\\right)\\end{equation*}"
      ],
      "text/plain": [
       "Quantum object: dims = [[4], [4]], shape = (4, 4), type = oper, isherm = False\n",
       "Qobj data =\n",
       "[[ 3.32426091e-01-0.61008781j -2.48216764e-01+0.00742287j\n",
       "  -3.32218003e-01-0.26721645j  4.67803649e-01-0.23453233j]\n",
       " [-6.18056368e-02-0.08520346j  8.37959790e-01-0.35291461j\n",
       "  -3.11514724e-01-0.25291069j  3.58896057e-05-0.03449434j]\n",
       " [-3.17360027e-02-0.48099205j  1.44640852e-01-0.29316018j\n",
       "   7.90378747e-01+0.10591817j  2.00616601e-02-0.15638388j]\n",
       " [-4.27155409e-01+0.30229774j  6.86551818e-02+0.00553252j\n",
       "   1.09189564e-01+0.0968594j   8.34155661e-01-0.06550129j]]"
      ]
     },
     "execution_count": 56,
     "metadata": {},
     "output_type": "execute_result"
    }
   ],
   "source": [
    "rand_unitary(4)"
   ]
  },
  {
   "cell_type": "code",
   "execution_count": null,
   "metadata": {},
   "outputs": [],
   "source": []
  },
  {
   "cell_type": "code",
   "execution_count": null,
   "metadata": {},
   "outputs": [],
   "source": []
  },
  {
   "cell_type": "code",
   "execution_count": null,
   "metadata": {},
   "outputs": [],
   "source": []
  },
  {
   "cell_type": "code",
   "execution_count": null,
   "metadata": {},
   "outputs": [],
   "source": []
  },
  {
   "cell_type": "code",
   "execution_count": null,
   "metadata": {},
   "outputs": [],
   "source": []
  },
  {
   "cell_type": "markdown",
   "metadata": {},
   "source": [
    "### Reference\n",
    "1. [Rotation](https://www2.ph.ed.ac.uk/~ldeldebb/docs/QM2/chap4.pdf)"
   ]
  },
  {
   "cell_type": "code",
   "execution_count": null,
   "metadata": {},
   "outputs": [],
   "source": []
  }
 ],
 "metadata": {
  "kernelspec": {
   "display_name": "Python 3",
   "language": "python",
   "name": "python3"
  },
  "language_info": {
   "codemirror_mode": {
    "name": "ipython",
    "version": 3
   },
   "file_extension": ".py",
   "mimetype": "text/x-python",
   "name": "python",
   "nbconvert_exporter": "python",
   "pygments_lexer": "ipython3",
   "version": "3.7.3"
  },
  "widgets": {
   "state": {},
   "version": "1.1.2"
  }
 },
 "nbformat": 4,
 "nbformat_minor": 2
}
